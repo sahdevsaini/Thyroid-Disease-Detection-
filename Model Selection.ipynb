{
 "cells": [
  {
   "cell_type": "markdown",
   "id": "097964b6-d2a3-452e-83f2-78023c3ef185",
   "metadata": {},
   "source": [
    "# ---------------------- Model Selection ---------------------"
   ]
  },
  {
   "cell_type": "markdown",
   "id": "eb31c933-f969-4331-9ff1-ae9b25039f27",
   "metadata": {},
   "source": [
    "### Import Libraries"
   ]
  },
  {
   "cell_type": "code",
   "execution_count": 37,
   "id": "cfff343c-9d94-4e99-9b0c-e07a66d39b2d",
   "metadata": {},
   "outputs": [],
   "source": [
    "import pandas as pd\n",
    "from imblearn.over_sampling import RandomOverSampler\n",
    "from sklearn.model_selection import train_test_split\n",
    "import matplotlib.pyplot as plt\n",
    "from sklearn.linear_model import LogisticRegression\n",
    "from sklearn.naive_bayes import GaussianNB\n",
    "from sklearn.svm import SVC\n",
    "from sklearn.neighbors import KNeighborsClassifier\n",
    "from sklearn.tree import DecisionTreeClassifier\n",
    "from sklearn.ensemble import RandomForestClassifier\n",
    "from sklearn.ensemble import GradientBoostingClassifier, AdaBoostClassifier\n",
    "import xgboost as xgb\n",
    "from sklearn.metrics import accuracy_score"
   ]
  },
  {
   "cell_type": "code",
   "execution_count": 38,
   "id": "0bd2daaf-3f1f-4d99-a108-55491734f79a",
   "metadata": {},
   "outputs": [],
   "source": [
    "#pip install xgboost"
   ]
  },
  {
   "cell_type": "code",
   "execution_count": 39,
   "id": "0e17a0a6-cb87-4565-82fa-fdea36e4ba43",
   "metadata": {},
   "outputs": [],
   "source": [
    "df = pd.read_csv(\"ML_Thyroid Detection data.csv\")"
   ]
  },
  {
   "cell_type": "code",
   "execution_count": 40,
   "id": "063f77f1-6116-47bc-9aec-a3267dd5af9d",
   "metadata": {},
   "outputs": [
    {
     "data": {
      "text/html": [
       "<div>\n",
       "<style scoped>\n",
       "    .dataframe tbody tr th:only-of-type {\n",
       "        vertical-align: middle;\n",
       "    }\n",
       "\n",
       "    .dataframe tbody tr th {\n",
       "        vertical-align: top;\n",
       "    }\n",
       "\n",
       "    .dataframe thead th {\n",
       "        text-align: right;\n",
       "    }\n",
       "</style>\n",
       "<table border=\"1\" class=\"dataframe\">\n",
       "  <thead>\n",
       "    <tr style=\"text-align: right;\">\n",
       "      <th></th>\n",
       "      <th>age</th>\n",
       "      <th>sex</th>\n",
       "      <th>TSH measured</th>\n",
       "      <th>TSH</th>\n",
       "      <th>T3 measured</th>\n",
       "      <th>T3</th>\n",
       "      <th>TT4 measured</th>\n",
       "      <th>TT4</th>\n",
       "      <th>T4U measured</th>\n",
       "      <th>T4U</th>\n",
       "      <th>FTI measured</th>\n",
       "      <th>FTI</th>\n",
       "      <th>Classes</th>\n",
       "    </tr>\n",
       "  </thead>\n",
       "  <tbody>\n",
       "    <tr>\n",
       "      <th>0</th>\n",
       "      <td>0.430108</td>\n",
       "      <td>0</td>\n",
       "      <td>1</td>\n",
       "      <td>0.002443</td>\n",
       "      <td>1</td>\n",
       "      <td>0.232227</td>\n",
       "      <td>1</td>\n",
       "      <td>0.287383</td>\n",
       "      <td>1</td>\n",
       "      <td>0.429952</td>\n",
       "      <td>1</td>\n",
       "      <td>0.272265</td>\n",
       "      <td>2</td>\n",
       "    </tr>\n",
       "    <tr>\n",
       "      <th>1</th>\n",
       "      <td>0.236559</td>\n",
       "      <td>0</td>\n",
       "      <td>1</td>\n",
       "      <td>0.007726</td>\n",
       "      <td>1</td>\n",
       "      <td>0.184834</td>\n",
       "      <td>1</td>\n",
       "      <td>0.233645</td>\n",
       "      <td>0</td>\n",
       "      <td>0.352657</td>\n",
       "      <td>0</td>\n",
       "      <td>0.267176</td>\n",
       "      <td>2</td>\n",
       "    </tr>\n",
       "    <tr>\n",
       "      <th>2</th>\n",
       "      <td>0.483871</td>\n",
       "      <td>1</td>\n",
       "      <td>1</td>\n",
       "      <td>0.001840</td>\n",
       "      <td>0</td>\n",
       "      <td>0.184834</td>\n",
       "      <td>1</td>\n",
       "      <td>0.250000</td>\n",
       "      <td>1</td>\n",
       "      <td>0.318841</td>\n",
       "      <td>1</td>\n",
       "      <td>0.300254</td>\n",
       "      <td>2</td>\n",
       "    </tr>\n",
       "    <tr>\n",
       "      <th>3</th>\n",
       "      <td>0.741935</td>\n",
       "      <td>0</td>\n",
       "      <td>1</td>\n",
       "      <td>0.000292</td>\n",
       "      <td>1</td>\n",
       "      <td>0.175355</td>\n",
       "      <td>1</td>\n",
       "      <td>0.404206</td>\n",
       "      <td>0</td>\n",
       "      <td>0.352657</td>\n",
       "      <td>0</td>\n",
       "      <td>0.267176</td>\n",
       "      <td>2</td>\n",
       "    </tr>\n",
       "    <tr>\n",
       "      <th>4</th>\n",
       "      <td>0.741935</td>\n",
       "      <td>0</td>\n",
       "      <td>1</td>\n",
       "      <td>0.001349</td>\n",
       "      <td>1</td>\n",
       "      <td>0.109005</td>\n",
       "      <td>1</td>\n",
       "      <td>0.137850</td>\n",
       "      <td>1</td>\n",
       "      <td>0.299517</td>\n",
       "      <td>1</td>\n",
       "      <td>0.173028</td>\n",
       "      <td>2</td>\n",
       "    </tr>\n",
       "  </tbody>\n",
       "</table>\n",
       "</div>"
      ],
      "text/plain": [
       "        age  sex  TSH measured       TSH  T3 measured        T3  TT4 measured  \\\n",
       "0  0.430108    0             1  0.002443            1  0.232227             1   \n",
       "1  0.236559    0             1  0.007726            1  0.184834             1   \n",
       "2  0.483871    1             1  0.001840            0  0.184834             1   \n",
       "3  0.741935    0             1  0.000292            1  0.175355             1   \n",
       "4  0.741935    0             1  0.001349            1  0.109005             1   \n",
       "\n",
       "        TT4  T4U measured       T4U  FTI measured       FTI  Classes  \n",
       "0  0.287383             1  0.429952             1  0.272265        2  \n",
       "1  0.233645             0  0.352657             0  0.267176        2  \n",
       "2  0.250000             1  0.318841             1  0.300254        2  \n",
       "3  0.404206             0  0.352657             0  0.267176        2  \n",
       "4  0.137850             1  0.299517             1  0.173028        2  "
      ]
     },
     "execution_count": 40,
     "metadata": {},
     "output_type": "execute_result"
    }
   ],
   "source": [
    "df.head()"
   ]
  },
  {
   "cell_type": "code",
   "execution_count": 41,
   "id": "9398840f-041f-444a-859c-4adcf8dc9767",
   "metadata": {},
   "outputs": [
    {
     "data": {
      "text/plain": [
       "(3771, 13)"
      ]
     },
     "execution_count": 41,
     "metadata": {},
     "output_type": "execute_result"
    }
   ],
   "source": [
    "df.shape"
   ]
  },
  {
   "cell_type": "code",
   "execution_count": 42,
   "id": "d0a6f9c5-9ef8-40fb-a8e0-7b5751049c5f",
   "metadata": {},
   "outputs": [],
   "source": [
    "X = df.drop(['Classes'],axis=1)\n",
    "y = df['Classes']                     # Target Attribute"
   ]
  },
  {
   "cell_type": "code",
   "execution_count": 43,
   "id": "f6816fb7-8800-4fc2-a292-c2aa42a67e35",
   "metadata": {},
   "outputs": [
    {
     "data": {
      "image/png": "[encoded data removed]",
      "text/plain": [
       "<Figure size 600x400 with 2 Axes>"
      ]
     },
     "metadata": {},
     "output_type": "display_data"
    }
   ],
   "source": [
    "# X is feature matrix and y is your target variable\n",
    "# X should be a 2D array where each row represents a data point and each column represents a feature\n",
    "\n",
    "\n",
    "X = df.drop(['Classes'], axis=1)  # Features\n",
    "y = df['Classes']                  # Target variable\n",
    "\n",
    "# Create scatter plot\n",
    "plt.figure(figsize=(6, 4))\n",
    "plt.scatter(X.iloc[:, 0], X.iloc[:, 1], c=y, cmap=plt.cm.coolwarm, edgecolor='k', s=100)\n",
    "plt.xlabel('Feature 1')\n",
    "plt.ylabel('Feature 2')\n",
    "plt.title('Scatter Plot of Dataset')\n",
    "plt.colorbar(label='Classes')\n",
    "plt.grid(True)\n",
    "plt.show()\n"
   ]
  },
  {
   "cell_type": "markdown",
   "id": "d3e388fa-4363-4659-aae0-08dd9371b676",
   "metadata": {},
   "source": [
    "### Over Sampling"
   ]
  },
  {
   "cell_type": "code",
   "execution_count": 44,
   "id": "11f65aeb-8db5-4279-b9e6-bf2808bca2db",
   "metadata": {},
   "outputs": [],
   "source": [
    "sample = RandomOverSampler()\n",
    "X_sampled,y_sampled  = sample.fit_resample(X,y)"
   ]
  },
  {
   "cell_type": "markdown",
   "id": "42a73509-87f0-4ab4-8301-c3a3d6ffd1fb",
   "metadata": {},
   "source": [
    "### Train Test Split"
   ]
  },
  {
   "cell_type": "code",
   "execution_count": 45,
   "id": "0700be7f-a56c-4563-a3d9-8bf6bc81fa7b",
   "metadata": {},
   "outputs": [],
   "source": [
    "X_train, X_test, y_train, y_test = train_test_split(X_sampled, y_sampled, test_size=0.2, random_state=42)"
   ]
  },
  {
   "cell_type": "markdown",
   "id": "38d8c2e4-6ba0-43c5-90ad-e73f17e90a3b",
   "metadata": {},
   "source": [
    "### Choosing Best Classifier Model"
   ]
  },
  {
   "cell_type": "markdown",
   "id": "82dedbc3-4072-4b7c-a231-f601cf9dd00b",
   "metadata": {},
   "source": [
    "#### Step 1: Define a list of classifier models"
   ]
  },
  {
   "cell_type": "code",
   "execution_count": 46,
   "id": "de21cf4a-1de6-4257-be43-3a74f12bf8d4",
   "metadata": {},
   "outputs": [],
   "source": [
    "models = {\n",
    "    \"Logistic Regression\" :LogisticRegression(),\n",
    "    \"KNN\": KNeighborsClassifier(),\n",
    "    \"SVM\": SVC(),\n",
    "    \"Decision Tree\": DecisionTreeClassifier(),\n",
    "    \"Random Forest\": RandomForestClassifier(),\n",
    "    \"Gbm_classifier\" : GradientBoostingClassifier(),\n",
    "    \"Adaboost_classifier\" : AdaBoostClassifier(),\n",
    "    \"Xgboost_classifier\" : xgb.XGBClassifier()\n",
    "}"
   ]
  },
  {
   "cell_type": "markdown",
   "id": "38b85a3d-c4b2-49a6-97de-49b88bc6fc8e",
   "metadata": {},
   "source": [
    "#### Step 2: Iterate over each model, train it, and evaluate its performance"
   ]
  },
  {
   "cell_type": "code",
   "execution_count": 47,
   "id": "1f0f04c9-3163-4f09-9872-a4ea26a35e3a",
   "metadata": {},
   "outputs": [
    {
     "name": "stdout",
     "output_type": "stream",
     "text": [
      "Logistic Regression Accuracy: 0.94\n",
      "KNN Accuracy: 0.99\n",
      "SVM Accuracy: 0.94\n",
      "Decision Tree Accuracy: 1.00\n",
      "Random Forest Accuracy: 1.00\n",
      "Gbm_classifier Accuracy: 0.99\n",
      "Adaboost_classifier Accuracy: 0.91\n",
      "Xgboost_classifier Accuracy: 1.00\n"
     ]
    }
   ],
   "source": [
    "import warnings\n",
    "from sklearn.exceptions import ConvergenceWarning\n",
    "\n",
    "best_model = None\n",
    "best_accuracy = 0\n",
    "\n",
    "for name, model in models.items():\n",
    "    if isinstance(model, LogisticRegression):\n",
    "        model.set_params(solver='saga', max_iter=1000)\n",
    "    \n",
    "    with warnings.catch_warnings():\n",
    "        warnings.filterwarnings(\"ignore\", category=ConvergenceWarning)\n",
    "        \n",
    "        model.fit(X_train, y_train)\n",
    "        y_pred = model.predict(X_test)\n",
    "        accuracy = accuracy_score(y_test, y_pred)\n",
    "        print(f\"{name} Accuracy: {accuracy:.2f}\")\n",
    "    \n",
    "    # Update the best model if the current model has higher accuracy\n",
    "    if accuracy > best_accuracy:\n",
    "        best_accuracy = accuracy\n",
    "        best_model = model\n"
   ]
  },
  {
   "cell_type": "markdown",
   "id": "84df1af8-6e58-410a-88fa-83c0ec7d0a02",
   "metadata": {},
   "source": [
    "#### Step 3: Choose the best model based on the highest accuracy"
   ]
  },
  {
   "cell_type": "code",
   "execution_count": null,
   "id": "d186e22f-4416-4837-ad0d-d461239c2e18",
   "metadata": {},
   "outputs": [],
   "source": [
    "print(f\"Best Model: {type(best_model).__name__} with Accuracy: {best_accuracy:.2f}\")"
   ]
  }
 ],
 "metadata": {
  "kernelspec": {
   "display_name": "Python 3 (ipykernel)",
   "language": "python",
   "name": "python3"
  },
  "language_info": {
   "codemirror_mode": {
    "name": "ipython",
    "version": 3
   },
   "file_extension": ".py",
   "mimetype": "text/x-python",
   "name": "python",
   "nbconvert_exporter": "python",
   "pygments_lexer": "ipython3",
   "version": "3.10.8"
  }
 },
 "nbformat": 4,
 "nbformat_minor": 5
}
