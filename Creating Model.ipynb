{
 "cells": [
  {
   "cell_type": "markdown",
   "id": "74f6f6bb-aa73-477d-ac86-b1c0e03765d4",
   "metadata": {},
   "source": [
    "# ------------- Model Creation Using Random forest ------------------- "
   ]
  },
  {
   "cell_type": "markdown",
   "id": "bd8c8873-8523-4b58-bcc5-edfa52ab5d19",
   "metadata": {},
   "source": [
    "### Importing Libraries"
   ]
  },
  {
   "cell_type": "code",
   "execution_count": 16,
   "id": "22e989ba-db06-4457-85fa-e6720a5404e7",
   "metadata": {},
   "outputs": [],
   "source": [
    "import pandas as pd\n",
    "import numpy as np\n",
    "import matplotlib as plt\n",
    "from imblearn.over_sampling import RandomOverSampler\n",
    "from sklearn.model_selection import train_test_split\n",
    "from sklearn.ensemble import RandomForestClassifier\n",
    "from sklearn.neighbors import KNeighborsClassifier\n",
    "from sklearn.metrics import r2_score,confusion_matrix,accuracy_score\n",
    "import matplotlib.pyplot as plt\n",
    "import seaborn as sns"
   ]
  },
  {
   "cell_type": "code",
   "execution_count": 17,
   "id": "7b0f0acc-aa56-4998-834d-28fa8fb41739",
   "metadata": {},
   "outputs": [
    {
     "name": "stdout",
     "output_type": "stream",
     "text": [
      "Requirement already satisfied: imblearn in /opt/conda/lib/python3.10/site-packages (0.0)\n",
      "Requirement already satisfied: imbalanced-learn in /opt/conda/lib/python3.10/site-packages (from imblearn) (0.12.0)\n",
      "Requirement already satisfied: numpy>=1.17.3 in /opt/conda/lib/python3.10/site-packages (from imbalanced-learn->imblearn) (1.23.5)\n",
      "Requirement already satisfied: scipy>=1.5.0 in /opt/conda/lib/python3.10/site-packages (from imbalanced-learn->imblearn) (1.9.3)\n",
      "Requirement already satisfied: scikit-learn>=1.0.2 in /opt/conda/lib/python3.10/site-packages (from imbalanced-learn->imblearn) (1.2.0)\n",
      "Requirement already satisfied: joblib>=1.1.1 in /opt/conda/lib/python3.10/site-packages (from imbalanced-learn->imblearn) (1.2.0)\n",
      "Requirement already satisfied: threadpoolctl>=2.0.0 in /opt/conda/lib/python3.10/site-packages (from imbalanced-learn->imblearn) (3.1.0)\n",
      "Note: you may need to restart the kernel to use updated packages.\n"
     ]
    }
   ],
   "source": [
    "pip install imblearn"
   ]
  },
  {
   "cell_type": "markdown",
   "id": "7485632d-860e-480b-a926-ce908ec18b85",
   "metadata": {},
   "source": [
    "### Importing Dataset"
   ]
  },
  {
   "cell_type": "code",
   "execution_count": 18,
   "id": "0b521fef-99da-4002-bddb-7ce8331ad4ae",
   "metadata": {},
   "outputs": [],
   "source": [
    "df = pd.read_csv(\"ML_Thyroid Detection data.csv\")"
   ]
  },
  {
   "cell_type": "code",
   "execution_count": 19,
   "id": "c1939016-1da3-4ba7-ae99-71c987e300da",
   "metadata": {},
   "outputs": [
    {
     "data": {
      "text/html": [
       "<div>\n",
       "<style scoped>\n",
       "    .dataframe tbody tr th:only-of-type {\n",
       "        vertical-align: middle;\n",
       "    }\n",
       "\n",
       "    .dataframe tbody tr th {\n",
       "        vertical-align: top;\n",
       "    }\n",
       "\n",
       "    .dataframe thead th {\n",
       "        text-align: right;\n",
       "    }\n",
       "</style>\n",
       "<table border=\"1\" class=\"dataframe\">\n",
       "  <thead>\n",
       "    <tr style=\"text-align: right;\">\n",
       "      <th></th>\n",
       "      <th>age</th>\n",
       "      <th>sex</th>\n",
       "      <th>TSH measured</th>\n",
       "      <th>TSH</th>\n",
       "      <th>T3 measured</th>\n",
       "      <th>T3</th>\n",
       "      <th>TT4 measured</th>\n",
       "      <th>TT4</th>\n",
       "      <th>T4U measured</th>\n",
       "      <th>T4U</th>\n",
       "      <th>FTI measured</th>\n",
       "      <th>FTI</th>\n",
       "      <th>Classes</th>\n",
       "    </tr>\n",
       "  </thead>\n",
       "  <tbody>\n",
       "    <tr>\n",
       "      <th>0</th>\n",
       "      <td>0.430108</td>\n",
       "      <td>0</td>\n",
       "      <td>1</td>\n",
       "      <td>0.002443</td>\n",
       "      <td>1</td>\n",
       "      <td>0.232227</td>\n",
       "      <td>1</td>\n",
       "      <td>0.287383</td>\n",
       "      <td>1</td>\n",
       "      <td>0.429952</td>\n",
       "      <td>1</td>\n",
       "      <td>0.272265</td>\n",
       "      <td>2</td>\n",
       "    </tr>\n",
       "    <tr>\n",
       "      <th>1</th>\n",
       "      <td>0.236559</td>\n",
       "      <td>0</td>\n",
       "      <td>1</td>\n",
       "      <td>0.007726</td>\n",
       "      <td>1</td>\n",
       "      <td>0.184834</td>\n",
       "      <td>1</td>\n",
       "      <td>0.233645</td>\n",
       "      <td>0</td>\n",
       "      <td>0.352657</td>\n",
       "      <td>0</td>\n",
       "      <td>0.267176</td>\n",
       "      <td>2</td>\n",
       "    </tr>\n",
       "    <tr>\n",
       "      <th>2</th>\n",
       "      <td>0.483871</td>\n",
       "      <td>1</td>\n",
       "      <td>1</td>\n",
       "      <td>0.001840</td>\n",
       "      <td>0</td>\n",
       "      <td>0.184834</td>\n",
       "      <td>1</td>\n",
       "      <td>0.250000</td>\n",
       "      <td>1</td>\n",
       "      <td>0.318841</td>\n",
       "      <td>1</td>\n",
       "      <td>0.300254</td>\n",
       "      <td>2</td>\n",
       "    </tr>\n",
       "    <tr>\n",
       "      <th>3</th>\n",
       "      <td>0.741935</td>\n",
       "      <td>0</td>\n",
       "      <td>1</td>\n",
       "      <td>0.000292</td>\n",
       "      <td>1</td>\n",
       "      <td>0.175355</td>\n",
       "      <td>1</td>\n",
       "      <td>0.404206</td>\n",
       "      <td>0</td>\n",
       "      <td>0.352657</td>\n",
       "      <td>0</td>\n",
       "      <td>0.267176</td>\n",
       "      <td>2</td>\n",
       "    </tr>\n",
       "    <tr>\n",
       "      <th>4</th>\n",
       "      <td>0.741935</td>\n",
       "      <td>0</td>\n",
       "      <td>1</td>\n",
       "      <td>0.001349</td>\n",
       "      <td>1</td>\n",
       "      <td>0.109005</td>\n",
       "      <td>1</td>\n",
       "      <td>0.137850</td>\n",
       "      <td>1</td>\n",
       "      <td>0.299517</td>\n",
       "      <td>1</td>\n",
       "      <td>0.173028</td>\n",
       "      <td>2</td>\n",
       "    </tr>\n",
       "  </tbody>\n",
       "</table>\n",
       "</div>"
      ],
      "text/plain": [
       "        age  sex  TSH measured       TSH  T3 measured        T3  TT4 measured  \\\n",
       "0  0.430108    0             1  0.002443            1  0.232227             1   \n",
       "1  0.236559    0             1  0.007726            1  0.184834             1   \n",
       "2  0.483871    1             1  0.001840            0  0.184834             1   \n",
       "3  0.741935    0             1  0.000292            1  0.175355             1   \n",
       "4  0.741935    0             1  0.001349            1  0.109005             1   \n",
       "\n",
       "        TT4  T4U measured       T4U  FTI measured       FTI  Classes  \n",
       "0  0.287383             1  0.429952             1  0.272265        2  \n",
       "1  0.233645             0  0.352657             0  0.267176        2  \n",
       "2  0.250000             1  0.318841             1  0.300254        2  \n",
       "3  0.404206             0  0.352657             0  0.267176        2  \n",
       "4  0.137850             1  0.299517             1  0.173028        2  "
      ]
     },
     "execution_count": 19,
     "metadata": {},
     "output_type": "execute_result"
    }
   ],
   "source": [
    "df.head()"
   ]
  },
  {
   "cell_type": "code",
   "execution_count": 20,
   "id": "76b149dd-a3fc-45b6-9418-fce576908bb4",
   "metadata": {},
   "outputs": [
    {
     "name": "stdout",
     "output_type": "stream",
     "text": [
      "<class 'pandas.core.frame.DataFrame'>\n",
      "RangeIndex: 3771 entries, 0 to 3770\n",
      "Data columns (total 13 columns):\n",
      " #   Column        Non-Null Count  Dtype  \n",
      "---  ------        --------------  -----  \n",
      " 0   age           3771 non-null   float64\n",
      " 1   sex           3771 non-null   int64  \n",
      " 2   TSH measured  3771 non-null   int64  \n",
      " 3   TSH           3771 non-null   float64\n",
      " 4   T3 measured   3771 non-null   int64  \n",
      " 5   T3            3771 non-null   float64\n",
      " 6   TT4 measured  3771 non-null   int64  \n",
      " 7   TT4           3771 non-null   float64\n",
      " 8   T4U measured  3771 non-null   int64  \n",
      " 9   T4U           3771 non-null   float64\n",
      " 10  FTI measured  3771 non-null   int64  \n",
      " 11  FTI           3771 non-null   float64\n",
      " 12  Classes       3771 non-null   int64  \n",
      "dtypes: float64(6), int64(7)\n",
      "memory usage: 383.1 KB\n"
     ]
    }
   ],
   "source": [
    "df.info()"
   ]
  },
  {
   "cell_type": "code",
   "execution_count": 21,
   "id": "d16b655e-7ef9-4f56-bd2e-0d62e831c53e",
   "metadata": {},
   "outputs": [],
   "source": [
    "X = df.drop(['Classes'],axis=1)\n",
    "y = df['Classes']                     # Target Attribute"
   ]
  },
  {
   "cell_type": "code",
   "execution_count": 22,
   "id": "7f0ee3d5-58ff-4d67-bab1-3292429411fa",
   "metadata": {},
   "outputs": [
    {
     "data": {
      "image/png": "[encoded data removed]",
      "text/plain": [
       "<Figure size 600x400 with 2 Axes>"
      ]
     },
     "metadata": {},
     "output_type": "display_data"
    }
   ],
   "source": [
    "# X is feature matrix and y is your target variable\n",
    "# X should be a 2D array where each row represents a data point and each column represents a feature\n",
    "\n",
    "\n",
    "X = df.drop(['Classes'], axis=1)  # Features\n",
    "y = df['Classes']                  # Target variable\n",
    "\n",
    "# Create scatter plot\n",
    "plt.figure(figsize=(6, 4))\n",
    "plt.scatter(X.iloc[:, 0], X.iloc[:, 1], c=y, cmap=plt.cm.coolwarm, edgecolor='k', s=100)\n",
    "plt.xlabel('Feature 1')\n",
    "plt.ylabel('Feature 2')\n",
    "plt.title('Scatter Plot of Dataset')\n",
    "plt.colorbar(label='Classes')\n",
    "plt.grid(True)\n",
    "plt.show()\n"
   ]
  },
  {
   "cell_type": "markdown",
   "id": "cf4f4932-9303-4b2d-aa13-6b4f90faa16d",
   "metadata": {},
   "source": [
    "### Over Sampling"
   ]
  },
  {
   "cell_type": "code",
   "execution_count": 23,
   "id": "87891889-e338-4265-b130-83b6f400ddc7",
   "metadata": {},
   "outputs": [],
   "source": [
    "sample = RandomOverSampler()\n",
    "X_sampled,y_sampled  = sample.fit_resample(X,y)"
   ]
  },
  {
   "cell_type": "markdown",
   "id": "17b28c90-b83d-415c-a63e-bda92d3c7771",
   "metadata": {},
   "source": [
    "### Separting Data for Test & Train Split"
   ]
  },
  {
   "cell_type": "code",
   "execution_count": 24,
   "id": "a6e2d01e-12da-4713-bc7c-96e9a155c326",
   "metadata": {},
   "outputs": [],
   "source": [
    "X_train, X_test, y_train, y_test = train_test_split(X_sampled, y_sampled, test_size=0.2, random_state=42)"
   ]
  },
  {
   "cell_type": "markdown",
   "id": "8c3eb110-e2f6-4e0f-a63d-939f54fb0e59",
   "metadata": {},
   "source": [
    "### Model Creation"
   ]
  },
  {
   "cell_type": "code",
   "execution_count": 25,
   "id": "f3f26058-6abd-4639-ad0e-d908b469013e",
   "metadata": {},
   "outputs": [
    {
     "data": {
      "text/plain": [
       "0.9876453737203118"
      ]
     },
     "execution_count": 25,
     "metadata": {},
     "output_type": "execute_result"
    }
   ],
   "source": [
    "RF_Classifier = RandomForestClassifier(n_estimators=100, max_depth=10, min_samples_split=5)\n",
    "RF_Classifier.fit(X_train,y_train)\n",
    "y_pred=RF_Classifier.predict(X_test)\n",
    "r2_score(y_test,y_pred)"
   ]
  },
  {
   "cell_type": "markdown",
   "id": "623ddb03-d901-4f31-891f-9979d083992e",
   "metadata": {},
   "source": [
    "**Observation** :- model was found to give almost 98.00  Accuracy"
   ]
  },
  {
   "cell_type": "markdown",
   "id": "a92c2142-9a09-4623-a4fc-38670c14abc7",
   "metadata": {},
   "source": [
    "#### Accuracy of the Model"
   ]
  },
  {
   "cell_type": "code",
   "execution_count": 26,
   "id": "1a66d6fc-ab3e-48c3-99b1-08f6bb9cb65f",
   "metadata": {},
   "outputs": [
    {
     "name": "stdout",
     "output_type": "stream",
     "text": [
      "99.16859122401847\n"
     ]
    }
   ],
   "source": [
    "Accuracy = accuracy_score(y_test,y_pred)\n",
    "print(Accuracy*100)"
   ]
  },
  {
   "cell_type": "code",
   "execution_count": 27,
   "id": "7e224ed6-6c97-4df2-b92e-d33c01c6fc33",
   "metadata": {},
   "outputs": [
    {
     "data": {
      "image/png": "[encoded data removed]",
      "text/plain": [
       "<Figure size 600x400 with 1 Axes>"
      ]
     },
     "metadata": {},
     "output_type": "display_data"
    }
   ],
   "source": [
    "# Plot feature importances\n",
    "importances = RF_Classifier.feature_importances_\n",
    "indices = np.argsort(importances)[::-1]\n",
    "\n",
    "plt.figure(figsize=(6, 4))\n",
    "plt.bar(range(X_train.shape[1]), importances[indices], align='center')\n",
    "plt.xticks(range(X_train.shape[1]), indices)\n",
    "plt.xlabel('Feature Index')\n",
    "plt.ylabel('Feature Importance')\n",
    "plt.title('Feature Importances of Random Forest')\n",
    "plt.show()\n"
   ]
  },
  {
   "cell_type": "markdown",
   "id": "35163c6d-2c79-4763-a8a4-2f92061f7137",
   "metadata": {},
   "source": [
    "### Confusion Matrix"
   ]
  },
  {
   "cell_type": "code",
   "execution_count": 28,
   "id": "b18a29cd-752a-4f2e-b4ae-134a871a3acc",
   "metadata": {},
   "outputs": [
    {
     "data": {
      "image/png": "[encoded data removed]",
      "text/plain": [
       "<Figure size 600x400 with 1 Axes>"
      ]
     },
     "metadata": {},
     "output_type": "display_data"
    }
   ],
   "source": [
    "Matrix = confusion_matrix(y_test, y_pred)\n",
    "# Plot confusion matrix\n",
    "plt.figure(figsize=(6, 4))\n",
    "sns.heatmap(Matrix, annot=True, cmap='Reds', fmt='g', cbar=False)\n",
    "plt.xlabel('Predicted labels')\n",
    "plt.ylabel('True labels')\n",
    "plt.title('Confusion Matrix')\n",
    "plt.show()\n"
   ]
  },
  {
   "cell_type": "markdown",
   "id": "a9b2ed0f-b5cd-4037-a820-e1481b0f1f6d",
   "metadata": {},
   "source": [
    "#### saving Model"
   ]
  },
  {
   "cell_type": "code",
   "execution_count": 30,
   "id": "7230d3f0-54d0-4c5f-a72b-769e4a345f36",
   "metadata": {},
   "outputs": [
    {
     "data": {
      "text/plain": [
       "['model.pkl']"
      ]
     },
     "execution_count": 30,
     "metadata": {},
     "output_type": "execute_result"
    }
   ],
   "source": [
    "import joblib\n",
    "\n",
    "joblib.dump(RF_Classifier,'model.pkl')"
   ]
  },
  {
   "cell_type": "code",
   "execution_count": null,
   "id": "e5b58b14-dae2-441b-a2fa-11814ddca027",
   "metadata": {},
   "outputs": [],
   "source": []
  }
 ],
 "metadata": {
  "kernelspec": {
   "display_name": "Python 3 (ipykernel)",
   "language": "python",
   "name": "python3"
  },
  "language_info": {
   "codemirror_mode": {
    "name": "ipython",
    "version": 3
   },
   "file_extension": ".py",
   "mimetype": "text/x-python",
   "name": "python",
   "nbconvert_exporter": "python",
   "pygments_lexer": "ipython3",
   "version": "3.10.8"
  }
 },
 "nbformat": 4,
 "nbformat_minor": 5
}
